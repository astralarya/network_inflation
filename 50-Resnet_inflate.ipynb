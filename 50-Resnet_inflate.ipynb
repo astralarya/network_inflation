{
 "cells": [
  {
   "attachments": {},
   "cell_type": "markdown",
   "id": "bca5ced7",
   "metadata": {},
   "source": [
    "# Resnet Inflate"
   ]
  },
  {
   "cell_type": "code",
   "execution_count": null,
   "id": "507a0491-3708-4d82-ae1b-f1a82b5a6069",
   "metadata": {
    "vscode": {
     "languageId": "python"
    }
   },
   "outputs": [
    {
     "ename": "",
     "evalue": "",
     "output_type": "error",
     "traceback": [
      "\u001b[1;31mThe kernel failed to start as a dll could not be loaded.\n",
      "\u001b[1;31mClick <a href='https://aka.ms/kernelFailuresDllLoad'>here</a> for more info."
     ]
    }
   ],
   "source": [
    "import torch\n",
    "import torch.nn as nn\n",
    "import torch.optim as optim\n",
    "import numpy as np\n",
    "import torchvision\n",
    "from torchvision import datasets, models, transforms\n",
    "from torchinfo import summary\n",
    "from tqdm import tqdm\n",
    "import matplotlib.pyplot as plt\n",
    "\n",
    "from local import inflate\n",
    "from local import imagenet\n",
    "from local import resnet\n",
    "from local.device import device, cpu\n",
    "\n",
    "\n",
    "print(\"PyTorch Version: \", torch.__version__)\n",
    "print(\"Torchvision Version: \", torchvision.__version__)\n",
    "print(\"Pytorch device: \", device)\n"
   ]
  },
  {
   "cell_type": "code",
   "execution_count": 2,
   "id": "e7104c6a",
   "metadata": {
    "vscode": {
     "languageId": "python"
    }
   },
   "outputs": [],
   "source": [
    "train_data = imagenet.train_data(\"data/imagenet-1k/train/\")"
   ]
  },
  {
   "cell_type": "code",
   "execution_count": 3,
   "id": "624ca1d7",
   "metadata": {
    "vscode": {
     "languageId": "python"
    }
   },
   "outputs": [
    {
     "name": "stderr",
     "output_type": "stream",
     "text": [
      "Using cache found in C:\\Users\\Mara/.cache\\torch\\hub\\pytorch_vision_v0.10.0\n"
     ]
    }
   ],
   "source": [
    "resnet50 = resnet.resnet50()"
   ]
  },
  {
   "cell_type": "code",
   "execution_count": 4,
   "id": "e459fa0d",
   "metadata": {
    "vscode": {
     "languageId": "python"
    }
   },
   "outputs": [
    {
     "name": "stderr",
     "output_type": "stream",
     "text": [
      "Using cache found in C:\\Users\\Mara/.cache\\torch\\hub\\pytorch_vision_v0.10.0\n"
     ]
    }
   ],
   "source": [
    "resnet152 = resnet.resnet152()"
   ]
  },
  {
   "cell_type": "code",
   "execution_count": 5,
   "id": "c8a98bfa",
   "metadata": {
    "vscode": {
     "languageId": "python"
    }
   },
   "outputs": [],
   "source": [
    "inflate.resnet(resnet50, resnet152)"
   ]
  },
  {
   "cell_type": "code",
   "execution_count": 6,
   "id": "28e45c4a",
   "metadata": {
    "vscode": {
     "languageId": "python"
    }
   },
   "outputs": [
    {
     "name": "stdout",
     "output_type": "stream",
     "text": [
      "Iterating 1281167 samples\n"
     ]
    },
    {
     "name": "stderr",
     "output_type": "stream",
     "text": [
      "  0%|          | 0/20019 [00:25<?, ?it/s]\n"
     ]
    },
    {
     "ename": "TypeError",
     "evalue": "'NoneType' object is not callable",
     "output_type": "error",
     "traceback": [
      "\u001b[1;31m---------------------------------------------------------------------------\u001b[0m",
      "\u001b[1;31mTypeError\u001b[0m                                 Traceback (most recent call last)",
      "Cell \u001b[1;32mIn[6], line 1\u001b[0m\n\u001b[1;32m----> 1\u001b[0m imagenet\u001b[39m.\u001b[39;49mdivergence(resnet50, resnet152, train_data)\n",
      "File \u001b[1;32md:\\usr\\Documents\\Research\\network_inflation\\local\\imagenet.py:165\u001b[0m, in \u001b[0;36mdivergence\u001b[1;34m(network0, network1, data, batch_size, num_workers)\u001b[0m\n\u001b[0;32m    163\u001b[0m loss \u001b[39m=\u001b[39m criterion(outputs0, outputs1)\n\u001b[0;32m    164\u001b[0m total_loss \u001b[39m+\u001b[39m\u001b[39m=\u001b[39m loss\u001b[39m.\u001b[39mitem() \u001b[39m/\u001b[39m total\n\u001b[1;32m--> 165\u001b[0m device_step()\n\u001b[0;32m    166\u001b[0m i\u001b[39m+\u001b[39m\u001b[39m=\u001b[39m\u001b[39m1\u001b[39m\n\u001b[0;32m    167\u001b[0m \u001b[39mif\u001b[39;00m i \u001b[39m>\u001b[39m \u001b[39m10\u001b[39m:\n",
      "\u001b[1;31mTypeError\u001b[0m: 'NoneType' object is not callable"
     ]
    }
   ],
   "source": [
    "imagenet.divergence(resnet50, resnet152, train_data)"
   ]
  }
 ],
 "metadata": {
  "kernelspec": {
   "display_name": "network_inflation",
   "language": "python",
   "name": "network_inflation"
  },
  "vscode": {
   "interpreter": {
    "hash": "1441b2df212df2b46e7a2d1f9cb1e4620c128765b8c471077cbd14f3f341ebb4"
   }
  }
 },
 "nbformat": 4,
 "nbformat_minor": 5
}
