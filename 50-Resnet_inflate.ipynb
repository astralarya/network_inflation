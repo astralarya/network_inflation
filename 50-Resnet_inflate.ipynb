{
 "cells": [
  {
   "attachments": {},
   "cell_type": "markdown",
   "id": "bca5ced7",
   "metadata": {},
   "source": [
    "# Resnet Inflate"
   ]
  },
  {
   "cell_type": "code",
   "execution_count": 1,
   "id": "507a0491-3708-4d82-ae1b-f1a82b5a6069",
   "metadata": {},
   "outputs": [
    {
     "name": "stdout",
     "output_type": "stream",
     "text": [
      "Device: xla:1\n",
      "PyTorch Version:  1.13.0+cu117\n",
      "Torchvision Version:  0.14.0+cu117\n",
      "Pytorch device:  xla:1\n"
     ]
    }
   ],
   "source": [
    "import torch\n",
    "import torch.nn as nn\n",
    "import torch.optim as optim\n",
    "import numpy as np\n",
    "import torchvision\n",
    "from torchvision import datasets, models, transforms\n",
    "from torchinfo import summary\n",
    "from tqdm import tqdm\n",
    "import matplotlib.pyplot as plt\n",
    "\n",
    "from local import inflate\n",
    "from local import imagenet\n",
    "from local import resnet\n",
    "from local.device import device, cpu\n",
    "\n",
    "\n",
    "print(\"PyTorch Version: \", torch.__version__)\n",
    "print(\"Torchvision Version: \", torchvision.__version__)\n",
    "print(\"Pytorch device: \", device)\n"
   ]
  },
  {
   "cell_type": "code",
   "execution_count": 2,
   "id": "e7104c6a",
   "metadata": {},
   "outputs": [],
   "source": [
    "train_data = imagenet.train_data(\"/mnt/imagenet/imagenet-1k/train/\")"
   ]
  },
  {
   "cell_type": "code",
   "execution_count": 3,
   "id": "624ca1d7",
   "metadata": {},
   "outputs": [
    {
     "name": "stderr",
     "output_type": "stream",
     "text": [
      "Using cache found in /home/mara/.cache/torch/hub/pytorch_vision_v0.10.0\n"
     ]
    }
   ],
   "source": [
    "resnet50 = resnet.resnet50()"
   ]
  },
  {
   "cell_type": "code",
   "execution_count": 4,
   "id": "e459fa0d",
   "metadata": {},
   "outputs": [
    {
     "name": "stderr",
     "output_type": "stream",
     "text": [
      "Using cache found in /home/mara/.cache/torch/hub/pytorch_vision_v0.10.0\n"
     ]
    }
   ],
   "source": [
    "resnet152 = resnet.resnet152()"
   ]
  },
  {
   "cell_type": "code",
   "execution_count": 6,
   "id": "9ee7319a",
   "metadata": {},
   "outputs": [
    {
     "name": "stdout",
     "output_type": "stream",
     "text": [
      "Iterating 1281167 samples\n"
     ]
    },
    {
     "name": "stderr",
     "output_type": "stream",
     "text": [
      "  0%|▎                                                                              | 19/5005 [00:48<3:33:54,  2.57s/it]\n"
     ]
    },
    {
     "ename": "KeyboardInterrupt",
     "evalue": "",
     "output_type": "error",
     "traceback": [
      "\u001b[0;31m---------------------------------------------------------------------------\u001b[0m",
      "\u001b[0;31mKeyboardInterrupt\u001b[0m                         Traceback (most recent call last)",
      "Cell \u001b[0;32mIn[6], line 1\u001b[0m\n\u001b[0;32m----> 1\u001b[0m imagenet\u001b[39m.\u001b[39;49mdivergence(resnet50, resnet152, train_data, batch_size\u001b[39m=\u001b[39;49m\u001b[39m256\u001b[39;49m)\n",
      "File \u001b[0;32m~/network_inflation/local/imagenet.py:162\u001b[0m, in \u001b[0;36mdivergence\u001b[0;34m(network0, network1, data, batch_size, num_workers)\u001b[0m\n\u001b[1;32m    160\u001b[0m     outputs1 \u001b[39m=\u001b[39m network1(inputs)\n\u001b[1;32m    161\u001b[0m     loss \u001b[39m=\u001b[39m criterion(outputs0, outputs1)\n\u001b[0;32m--> 162\u001b[0m     total_loss \u001b[39m+\u001b[39m\u001b[39m=\u001b[39m loss\u001b[39m.\u001b[39;49mitem() \u001b[39m/\u001b[39m total\n\u001b[1;32m    163\u001b[0m     device_step()\n\u001b[1;32m    164\u001b[0m \u001b[39mprint\u001b[39m(\u001b[39mf\u001b[39m\u001b[39m\"\u001b[39m\u001b[39mDivergence: \u001b[39m\u001b[39m{\u001b[39;00mtotal_loss\u001b[39m}\u001b[39;00m\u001b[39m\"\u001b[39m)\n",
      "\u001b[0;31mKeyboardInterrupt\u001b[0m: "
     ]
    }
   ],
   "source": [
    "imagenet.divergence(resnet50, resnet152, train_data)"
   ]
  },
  {
   "cell_type": "code",
   "execution_count": null,
   "id": "95b82bc8",
   "metadata": {},
   "outputs": [
    {
     "name": "stdout",
     "output_type": "stream",
     "text": [
      "Iterating 1281167 samples\n"
     ]
    },
    {
     "name": "stderr",
     "output_type": "stream",
     "text": [
      "  0%|▎                                                                              | 19/5005 [00:48<3:33:54,  2.57s/it]\n"
     ]
    },
    {
     "ename": "KeyboardInterrupt",
     "evalue": "",
     "output_type": "error",
     "traceback": [
      "\u001b[0;31m---------------------------------------------------------------------------\u001b[0m\n",
      "\u001b[0;31mKeyboardInterrupt\u001b[0m                         Traceback (most recent call last)\n",
      "Cell \u001b[0;32mIn[6], line 1\u001b[0m\n",
      "\u001b[0;32m----> 1\u001b[0m imagenet\u001b[39m.\u001b[39;49mdivergence(resnet50, resnet152, train_data, batch_size\u001b[39m=\u001b[39;49m\u001b[39m256\u001b[39;49m)\n",
      "\n",
      "File \u001b[0;32m~/network_inflation/local/imagenet.py:162\u001b[0m, in \u001b[0;36mdivergence\u001b[0;34m(network0, network1, data, batch_size, num_workers)\u001b[0m\n",
      "\u001b[1;32m    160\u001b[0m     outputs1 \u001b[39m=\u001b[39m network1(inputs)\n",
      "\u001b[1;32m    161\u001b[0m     loss \u001b[39m=\u001b[39m criterion(outputs0, outputs1)\n",
      "\u001b[0;32m--> 162\u001b[0m     total_loss \u001b[39m+\u001b[39m\u001b[39m=\u001b[39m loss\u001b[39m.\u001b[39;49mitem() \u001b[39m/\u001b[39m total\n",
      "\u001b[1;32m    163\u001b[0m     device_step()\n",
      "\u001b[1;32m    164\u001b[0m \u001b[39mprint\u001b[39m(\u001b[39mf\u001b[39m\u001b[39m\"\u001b[39m\u001b[39mDivergence: \u001b[39m\u001b[39m{\u001b[39;00mtotal_loss\u001b[39m}\u001b[39;00m\u001b[39m\"\u001b[39m)\n",
      "\n",
      "\u001b[0;31mKeyboardInterrupt\u001b[0m: "
     ]
    }
   ],
   "source": [
    "imagenet.divergence(resnet50, resnet50, train_data)"
   ]
  },
  {
   "cell_type": "code",
   "execution_count": null,
   "id": "c6dcc81b",
   "metadata": {},
   "outputs": [],
   "source": [
    "inflate.resnet(resnet50, resnet152)"
   ]
  },
  {
   "cell_type": "code",
   "execution_count": null,
   "id": "28e45c4a",
   "metadata": {},
   "outputs": [],
   "source": [
    "imagenet.divergence(resnet50, resnet152, train_data)"
   ]
  },
  {
   "cell_type": "code",
   "execution_count": null,
   "id": "ebf91952",
   "metadata": {},
   "outputs": [
    {
     "name": "stdout",
     "output_type": "stream",
     "text": [
      "Iterating 1281167 samples\n"
     ]
    },
    {
     "name": "stderr",
     "output_type": "stream",
     "text": [
      "  0%|▎                                                                              | 19/5005 [00:48<3:33:54,  2.57s/it]\n"
     ]
    },
    {
     "ename": "KeyboardInterrupt",
     "evalue": "",
     "output_type": "error",
     "traceback": [
      "\u001b[0;31m---------------------------------------------------------------------------\u001b[0m\n",
      "\u001b[0;31mKeyboardInterrupt\u001b[0m                         Traceback (most recent call last)\n",
      "Cell \u001b[0;32mIn[6], line 1\u001b[0m\n",
      "\u001b[0;32m----> 1\u001b[0m imagenet\u001b[39m.\u001b[39;49mdivergence(resnet50, resnet152, train_data, batch_size\u001b[39m=\u001b[39;49m\u001b[39m256\u001b[39;49m)\n",
      "\n",
      "File \u001b[0;32m~/network_inflation/local/imagenet.py:162\u001b[0m, in \u001b[0;36mdivergence\u001b[0;34m(network0, network1, data, batch_size, num_workers)\u001b[0m\n",
      "\u001b[1;32m    160\u001b[0m     outputs1 \u001b[39m=\u001b[39m network1(inputs)\n",
      "\u001b[1;32m    161\u001b[0m     loss \u001b[39m=\u001b[39m criterion(outputs0, outputs1)\n",
      "\u001b[0;32m--> 162\u001b[0m     total_loss \u001b[39m+\u001b[39m\u001b[39m=\u001b[39m loss\u001b[39m.\u001b[39;49mitem() \u001b[39m/\u001b[39m total\n",
      "\u001b[1;32m    163\u001b[0m     device_step()\n",
      "\u001b[1;32m    164\u001b[0m \u001b[39mprint\u001b[39m(\u001b[39mf\u001b[39m\u001b[39m\"\u001b[39m\u001b[39mDivergence: \u001b[39m\u001b[39m{\u001b[39;00mtotal_loss\u001b[39m}\u001b[39;00m\u001b[39m\"\u001b[39m)\n",
      "\n",
      "\u001b[0;31mKeyboardInterrupt\u001b[0m: "
     ]
    }
   ],
   "source": [
    "imagenet.divergence(resnet152, resnet152, train_data)"
   ]
  }
 ],
 "metadata": {
  "kernelspec": {
   "display_name": "Python 3 (ipykernel)",
   "language": "python",
   "name": "python3"
  },
  "language_info": {
   "codemirror_mode": {
    "name": "ipython",
    "version": 3
   },
   "file_extension": ".py",
   "mimetype": "text/x-python",
   "name": "python",
   "nbconvert_exporter": "python",
   "pygments_lexer": "ipython3",
   "version": "3.8.10"
  },
  "vscode": {
   "interpreter": {
    "hash": "1441b2df212df2b46e7a2d1f9cb1e4620c128765b8c471077cbd14f3f341ebb4"
   }
  }
 },
 "nbformat": 4,
 "nbformat_minor": 5
}
