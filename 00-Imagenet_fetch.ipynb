{
 "cells": [
  {
   "attachments": {},
   "cell_type": "markdown",
   "metadata": {},
   "source": [
    "# Imagenet fetch"
   ]
  },
  {
   "attachments": {},
   "cell_type": "markdown",
   "metadata": {},
   "source": [
    "Clone [Imagenet](https://huggingface.co/datasets/imagenet-1k).\n",
    "Requires Huggingface token and Git LFS.\n",
    "\n",
    "```bash\n",
    "huggingface-cli login\n",
    "cd ~/Downloads\n",
    "git clone https://huggingface.co/datasets/imagenet-1k\n",
    "```"
   ]
  },
  {
   "cell_type": "code",
   "execution_count": 1,
   "metadata": {},
   "outputs": [],
   "source": [
    "import os\n",
    "\n",
    "git_dir = f\"{os.environ['HOME']}/Downloads/imagenet-1k\"\n",
    "out_dir = \"data/imagenet-1k\""
   ]
  },
  {
   "cell_type": "code",
   "execution_count": 2,
   "metadata": {},
   "outputs": [],
   "source": [
    "from pathlib import Path\n",
    "import shutil\n",
    "import glob\n",
    "\n",
    "git_dir = Path(git_dir)\n",
    "out_dir = Path(out_dir)\n",
    "splits = [\"test\", \"train\", \"val\"]\n",
    "\n",
    "out_dir.mkdir(parents=True, exist_ok=True)\n",
    "for split in splits:\n",
    "    out_dir.joinpath(split).mkdir(exist_ok=True)"
   ]
  },
  {
   "cell_type": "code",
   "execution_count": 3,
   "metadata": {},
   "outputs": [],
   "source": [
    "def get_files(split: str):\n",
    "    files = [\n",
    "        *glob.glob(f\"{git_dir}/data/{split}_images.tar.gz\"),\n",
    "        *glob.glob(f\"{git_dir}/data/{split}_images_[0-9].tar.gz\"),\n",
    "    ]\n",
    "    files.sort()\n",
    "    return files"
   ]
  },
  {
   "cell_type": "code",
   "execution_count": 4,
   "metadata": {},
   "outputs": [],
   "source": [
    "def transform_name(name: str):\n",
    "    dots = name.split(\".\")\n",
    "    base, ext = \".\".join(dots[:-1]), dots[-1]\n",
    "    bars = base.split(\"_\")\n",
    "    name, label = f\"{'_'.join(bars[:-1])}.{ext}\", bars[-1]\n",
    "    return name, label"
   ]
  },
  {
   "cell_type": "code",
   "execution_count": 5,
   "metadata": {},
   "outputs": [
    {
     "data": {
      "text/plain": [
       "PosixPath('data/imagenet-1k/classes.py')"
      ]
     },
     "execution_count": 5,
     "metadata": {},
     "output_type": "execute_result"
    }
   ],
   "source": [
    "shutil.copy(git_dir.joinpath(\"classes.py\"), out_dir.joinpath(\"classes.py\"))"
   ]
  },
  {
   "cell_type": "code",
   "execution_count": 6,
   "metadata": {},
   "outputs": [
    {
     "name": "stdout",
     "output_type": "stream",
     "text": [
      "Reading `/Users/marakim/Downloads/imagenet-1k/data/train_images_0.tar.gz`\n"
     ]
    },
    {
     "name": "stderr",
     "output_type": "stream",
     "text": [
      "100%|██████████| 256234/256234 [01:49<00:00, 2339.82it/s]\n"
     ]
    },
    {
     "name": "stdout",
     "output_type": "stream",
     "text": [
      "Reading `/Users/marakim/Downloads/imagenet-1k/data/train_images_1.tar.gz`\n"
     ]
    },
    {
     "name": "stderr",
     "output_type": "stream",
     "text": [
      "100%|██████████| 256234/256234 [01:59<00:00, 2136.70it/s]\n"
     ]
    },
    {
     "name": "stdout",
     "output_type": "stream",
     "text": [
      "Reading `/Users/marakim/Downloads/imagenet-1k/data/train_images_2.tar.gz`\n"
     ]
    },
    {
     "name": "stderr",
     "output_type": "stream",
     "text": [
      "100%|██████████| 256234/256234 [02:03<00:00, 2072.27it/s]\n"
     ]
    },
    {
     "name": "stdout",
     "output_type": "stream",
     "text": [
      "Reading `/Users/marakim/Downloads/imagenet-1k/data/train_images_3.tar.gz`\n"
     ]
    },
    {
     "name": "stderr",
     "output_type": "stream",
     "text": [
      "100%|██████████| 256234/256234 [02:05<00:00, 2046.46it/s]\n"
     ]
    },
    {
     "name": "stdout",
     "output_type": "stream",
     "text": [
      "Reading `/Users/marakim/Downloads/imagenet-1k/data/train_images_4.tar.gz`\n"
     ]
    },
    {
     "name": "stderr",
     "output_type": "stream",
     "text": [
      "100%|██████████| 256231/256231 [02:27<00:00, 1742.73it/s]\n"
     ]
    },
    {
     "name": "stdout",
     "output_type": "stream",
     "text": [
      "Reading `/Users/marakim/Downloads/imagenet-1k/data/val_images.tar.gz`\n"
     ]
    },
    {
     "name": "stderr",
     "output_type": "stream",
     "text": [
      "100%|██████████| 50000/50000 [00:21<00:00, 2304.01it/s]\n"
     ]
    }
   ],
   "source": [
    "import tarfile\n",
    "\n",
    "from tqdm import tqdm\n",
    "\n",
    "for split in [\"train\", \"val\"]:\n",
    "    for filename in get_files(split):\n",
    "        print(f\"Reading `{filename}`\")\n",
    "        with tarfile.open(filename, \"r:gz\") as tar:\n",
    "            for member in tqdm(tar.getmembers()):\n",
    "                name, label = transform_name(member.name)\n",
    "                label_dir = out_dir.joinpath(split, label)\n",
    "                label_dir.mkdir(exist_ok=True)\n",
    "                with tar.extractfile(member) as extract:\n",
    "                    with label_dir.joinpath(name).open(mode=\"wb\") as output:\n",
    "                        output.write(extract.read())\n"
   ]
  }
 ],
 "metadata": {
  "kernelspec": {
   "display_name": "network_inflation",
   "language": "python",
   "name": "python3"
  },
  "language_info": {
   "codemirror_mode": {
    "name": "ipython",
    "version": 3
   },
   "file_extension": ".py",
   "mimetype": "text/x-python",
   "name": "python",
   "nbconvert_exporter": "python",
   "pygments_lexer": "ipython3",
   "version": "3.10.9"
  },
  "orig_nbformat": 4,
  "vscode": {
   "interpreter": {
    "hash": "a85702dbffca433bbc1cdca1ec61af2a74010ab6cab1a97332d28220958107a8"
   }
  }
 },
 "nbformat": 4,
 "nbformat_minor": 2
}
